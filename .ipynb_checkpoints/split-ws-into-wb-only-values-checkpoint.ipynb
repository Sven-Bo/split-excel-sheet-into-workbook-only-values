{
 "cells": [
  {
   "cell_type": "markdown",
   "metadata": {},
   "source": [
    "# Return `Used Range` & `Current Region` from Excel Using Python"
   ]
  },
  {
   "cell_type": "markdown",
   "metadata": {
    "heading_collapsed": true
   },
   "source": [
    "## Install dependency (xlwings)"
   ]
  },
  {
   "cell_type": "code",
   "execution_count": null,
   "metadata": {
    "hidden": true
   },
   "outputs": [],
   "source": [
    "# Install xlwings\n",
    "#!pip install xlwings --quiet"
   ]
  },
  {
   "cell_type": "markdown",
   "metadata": {},
   "source": [
    "## Import library and set up workbook"
   ]
  },
  {
   "cell_type": "code",
   "execution_count": 1,
   "metadata": {},
   "outputs": [],
   "source": [
    "from pathlib import Path\n",
    "import xlwings as xw"
   ]
  },
  {
   "cell_type": "code",
   "execution_count": 2,
   "metadata": {},
   "outputs": [],
   "source": [
    "# Load Workbook\n",
    "EXCEL_FILE = Path.cwd() / \"Example.xlsx\"\n",
    "wb = xw.Book(EXCEL_FILE)\n",
    "sht = wb.sheets[0]"
   ]
  },
  {
   "cell_type": "markdown",
   "metadata": {},
   "source": [
    "## Used Range"
   ]
  },
  {
   "cell_type": "markdown",
   "metadata": {},
   "source": [
    "Property of **sheet object**.<br>\n",
    "Returns a **Range object**."
   ]
  },
  {
   "cell_type": "code",
   "execution_count": 3,
   "metadata": {},
   "outputs": [
    {
     "data": {
      "text/plain": [
       "<Range [Example.xlsx]Sheet1!$A$1:$D$5>"
      ]
     },
     "execution_count": 3,
     "metadata": {},
     "output_type": "execute_result"
    }
   ],
   "source": [
    "used_range = sht.used_range\n",
    "used_range"
   ]
  },
  {
   "cell_type": "markdown",
   "metadata": {},
   "source": [
    "## Current Region"
   ]
  },
  {
   "cell_type": "markdown",
   "metadata": {},
   "source": [
    "Property of **range object**.<br>\n",
    "**Returns a Range object** representing a range bounded by (but not including) any combination of blank rows and blank columns or the edges of the worksheet.<br>\n",
    "It corresponds to `Shift-Ctrl-Space` on Windows."
   ]
  },
  {
   "cell_type": "code",
   "execution_count": 4,
   "metadata": {},
   "outputs": [
    {
     "data": {
      "text/plain": [
       "<Range [Example.xlsx]Sheet1!$A$1:$C$3>"
      ]
     },
     "execution_count": 4,
     "metadata": {},
     "output_type": "execute_result"
    }
   ],
   "source": [
    "current_region = sht.range('A1').current_region\n",
    "current_region"
   ]
  },
  {
   "cell_type": "markdown",
   "metadata": {},
   "source": [
    "## Get Address"
   ]
  },
  {
   "cell_type": "code",
   "execution_count": 5,
   "metadata": {},
   "outputs": [
    {
     "data": {
      "text/plain": [
       "'$A$1:$C$3'"
      ]
     },
     "execution_count": 5,
     "metadata": {},
     "output_type": "execute_result"
    }
   ],
   "source": [
    "current_region.get_address()"
   ]
  },
  {
   "cell_type": "code",
   "execution_count": 6,
   "metadata": {},
   "outputs": [
    {
     "data": {
      "text/plain": [
       "'$A$1:$D$5'"
      ]
     },
     "execution_count": 6,
     "metadata": {},
     "output_type": "execute_result"
    }
   ],
   "source": [
    "used_range.get_address()"
   ]
  },
  {
   "cell_type": "markdown",
   "metadata": {},
   "source": [
    "## Quit Excel Instance"
   ]
  },
  {
   "cell_type": "code",
   "execution_count": 7,
   "metadata": {},
   "outputs": [],
   "source": [
    "# Clean up, before moving on to the Practical example\n",
    "wb.app.quit()"
   ]
  },
  {
   "cell_type": "markdown",
   "metadata": {},
   "source": [
    "## Practical Example / Use-Case"
   ]
  },
  {
   "cell_type": "markdown",
   "metadata": {},
   "source": [
    "**Purpose:** <br>\n",
    "Save each Excel sheet as separate file. Copy only the values (no formatting, no formulas, ...)"
   ]
  },
  {
   "cell_type": "code",
   "execution_count": 8,
   "metadata": {},
   "outputs": [],
   "source": [
    "from pathlib import Path\n",
    "\n",
    "import xlwings as xw\n",
    "\n",
    "BASE_DIR = Path.cwd()\n",
    "EXCEL_FILE = BASE_DIR / \"Example\" / \"data.xlsx\"\n",
    "OUTPUT_DIR = BASE_DIR / \"Example\" / \"Output\"\n",
    "\n",
    "# Create Output directory\n",
    "OUTPUT_DIR.mkdir(parents=True, exist_ok=True)\n",
    "\n",
    "with xw.App(visible=False) as app:\n",
    "    wb = app.books.open(EXCEL_FILE)\n",
    "    for sheet in wb.sheets:\n",
    "        # Get the address from the used_range object\n",
    "        rng_address = sheet.used_range.get_address()\n",
    "        \n",
    "        # Add a blank/new workbook\n",
    "        wb_new = xw.books.add()\n",
    "       \n",
    "        # Transfer values within used range to new workbook\n",
    "        wb_new.sheets[0].range(rng_address).value = sheet.range(rng_address).value\n",
    "        \n",
    "        # Save & close workbook\n",
    "        wb_new.save(OUTPUT_DIR / f'{sheet.name}.xlsx')\n",
    "        wb_new.close()"
   ]
  }
 ],
 "metadata": {
  "kernelspec": {
   "display_name": "Python 3 (ipykernel)",
   "language": "python",
   "name": "python3"
  },
  "language_info": {
   "codemirror_mode": {
    "name": "ipython",
    "version": 3
   },
   "file_extension": ".py",
   "mimetype": "text/x-python",
   "name": "python",
   "nbconvert_exporter": "python",
   "pygments_lexer": "ipython3",
   "version": "3.11.1"
  }
 },
 "nbformat": 4,
 "nbformat_minor": 4
}
